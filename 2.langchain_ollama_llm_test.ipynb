{
 "cells": [
  {
   "cell_type": "code",
   "execution_count": null,
   "metadata": {},
   "outputs": [],
   "source": [
    "# %pip install python-dotenv langchain-community"
   ]
  },
  {
   "cell_type": "code",
   "execution_count": 1,
   "metadata": {},
   "outputs": [
    {
     "data": {
      "text/plain": [
       "AIMessage(content='Here are 5 popular sandwich brands in the USA, along with a brief overview of each:\\n\\n1. **Jimmy John\\'s**: Known for their speedy delivery and \"freaky fast\" service, Jimmy John\\'s is a favorite among busy professionals and students. Founded in 1983 in Illinois, they\\'ve grown to over 2,800 locations across the US.\\n2. **Potbelly**: This Chicago-based chain has been around since 1977, serving up toasted sandwiches made with freshly baked bread, soups, salads, and coffee. With over 400 locations worldwide, Potbelly is a popular choice for lunch and dinner.\\n3. **Jason\\'s Deli**: Founded in Texas in 1976, Jason\\'s Deli has grown to over 250 locations across the US. They\\'re famous for their fresh, made-to-order sandwiches, soups, salads, and desserts. Their menu includes classic options like turkey clubs and Italian subs.\\n4. **Erbert & Gerbert\\'s**: This Minnesota-based chain was founded in 1988 and now has over 60 locations across the Midwest. Erbert & Gerbert\\'s is known for their creative sandwich names (e.g., \"The German Cold Cut\" and \"The Thank You Bacon\") and quirky, welcoming atmosphere.\\n5. **Which Wich**: Founded in Texas in 2003, Which Wich has grown to over 400 locations across the US. Their menu features customizable sandwiches with a wide range of meats, cheeses, vegetables, and sauces. Customers order by marking their sandwich choices on a sandwich wrapper – hence the name \"Which Wich\"!\\n\\nThese five brands offer a mix of classic and unique sandwich options, speedy service, and welcoming atmospheres that have resonated with Americans across the country.', additional_kwargs={}, response_metadata={'model': 'llama3', 'created_at': '2024-10-11T10:19:41.5694379Z', 'message': {'role': 'assistant', 'content': ''}, 'done_reason': 'stop', 'done': True, 'total_duration': 73165778300, 'load_duration': 6651777100, 'prompt_eval_count': 19, 'prompt_eval_duration': 1520655000, 'eval_count': 357, 'eval_duration': 64987448000}, id='run-d9f466a8-8214-4d35-ad5d-e0fbec741ac7-0')"
      ]
     },
     "execution_count": 1,
     "metadata": {},
     "output_type": "execute_result"
    }
   ],
   "source": [
    "from langchain_community.chat_models import ChatOllama\n",
    "\n",
    "chat = ChatOllama(model=\"llama3\")\n",
    "chat.invoke(\"tell me about five sandwich brand IN USA shortly\")\n",
    "# 무료라서 그런지 답변 생성 시간이 너무 오래 걸린다.(1분은 기본으로 넘김)"
   ]
  }
 ],
 "metadata": {
  "kernelspec": {
   "display_name": "env",
   "language": "python",
   "name": "python3"
  },
  "language_info": {
   "codemirror_mode": {
    "name": "ipython",
    "version": 3
   },
   "file_extension": ".py",
   "mimetype": "text/x-python",
   "name": "python",
   "nbconvert_exporter": "python",
   "pygments_lexer": "ipython3",
   "version": "3.11.6"
  }
 },
 "nbformat": 4,
 "nbformat_minor": 2
}
