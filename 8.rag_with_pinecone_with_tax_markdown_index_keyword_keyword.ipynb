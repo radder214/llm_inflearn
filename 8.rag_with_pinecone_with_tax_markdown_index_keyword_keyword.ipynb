{
 "cells": [
  {
   "cell_type": "markdown",
   "metadata": {},
   "source": [
    "### 구현 방식\n",
    "1. 문서의 내용을 읽는다.\n",
    "2. 문서를 쪼갠다.\n",
    "    - 토큰수 초과로 답변을 생성하지 못할 수 있고\n",
    "    - 문서가 길면(인풋이 길면) 답변 생성이 오래걸린다.\n",
    "3. (쪼갠 문서를) 임베딩 -> 벡터 DB에 저장\n",
    "4. 질문이 있을 때 벡터 DB에서 유사도 검색\n",
    "5. 유사도 검색으로 가져온 문서를 LLM에 질문과 같이 전달"
   ]
  },
  {
   "cell_type": "code",
   "execution_count": 71,
   "metadata": {},
   "outputs": [],
   "source": [
    "from langchain_community.document_loaders import Docx2txtLoader\n",
    "from langchain_text_splitters import RecursiveCharacterTextSplitter\n",
    "\n",
    "text_splitter = RecursiveCharacterTextSplitter(\n",
    "    chunk_size=1500,\n",
    "    chunk_overlap=200\n",
    ")\n",
    "loader = Docx2txtLoader(\"./tax_with_markdown.docx\")\n",
    "document_list = loader.load_and_split(text_splitter=text_splitter)"
   ]
  },
  {
   "cell_type": "code",
   "execution_count": 72,
   "metadata": {},
   "outputs": [],
   "source": [
    "from dotenv import load_dotenv\n",
    "from langchain_openai import OpenAIEmbeddings\n",
    "\n",
    "load_dotenv()\n",
    "embedding = OpenAIEmbeddings(model=\"text-embedding-3-large\")"
   ]
  },
  {
   "cell_type": "code",
   "execution_count": 73,
   "metadata": {},
   "outputs": [],
   "source": [
    "import os\n",
    "from pinecone import Pinecone\n",
    "from langchain_pinecone import PineconeVectorStore\n",
    "\n",
    "index_name = \"tax-markdown-index\"\n",
    "pinecone_api_key = os.environ.get(\"PINECONE_API_KEY\")\n",
    "pc = Pinecone(api_key=pinecone_api_key)\n",
    "\n",
    "# 데이터를 추가한 이후에는 --> from_existing_index() 사용\n",
    "database = PineconeVectorStore.from_existing_index(\n",
    "    index_name=index_name,\n",
    "    embedding=embedding\n",
    ")"
   ]
  },
  {
   "cell_type": "code",
   "execution_count": 83,
   "metadata": {},
   "outputs": [],
   "source": [
    "# query = \"연봉 5,000만 원인 직장인의 소득세는 얼마인가요?\"\n",
    "query = \"연봉 5,000만 원인 거주자의 종합소득세는 얼마인가요?\""
   ]
  },
  {
   "cell_type": "code",
   "execution_count": null,
   "metadata": {},
   "outputs": [],
   "source": [
    "retriever = database.as_retriever(search_kwargs={'k': 2})\n",
    "retriever.invoke(query)"
   ]
  },
  {
   "cell_type": "code",
   "execution_count": 85,
   "metadata": {},
   "outputs": [],
   "source": [
    "from langchain import hub\n",
    "prompt = hub.pull(\"rlm/rag-prompt\")"
   ]
  },
  {
   "cell_type": "code",
   "execution_count": 86,
   "metadata": {},
   "outputs": [],
   "source": [
    "from langchain_openai import ChatOpenAI\n",
    "llm = ChatOpenAI(model=\"gpt-4o\")"
   ]
  },
  {
   "cell_type": "code",
   "execution_count": 87,
   "metadata": {},
   "outputs": [],
   "source": [
    "from langchain.chains import RetrievalQA # Question, Answer chain\n",
    "\n",
    "qa_chain = RetrievalQA.from_chain_type(\n",
    "    llm,\n",
    "    retriever=retriever,\n",
    "    chain_type_kwargs={\"prompt\" : prompt}\n",
    ")\n",
    "\n",
    "# 사용자가 넘겨주는 query 중 (직장인 => 거주자)로 변경해주는 chain 을 추가해보자\n",
    "# [as-is] ai_message = qa_chain({\"query\" : query})"
   ]
  },
  {
   "cell_type": "code",
   "execution_count": 105,
   "metadata": {},
   "outputs": [],
   "source": [
    "from langchain_core.output_parsers import StrOutputParser\n",
    "from langchain_core.prompts import ChatPromptTemplate\n",
    "\n",
    "dictionary = [\"사람을 나타내는 표현 -> 거주자\"]\n",
    "\n",
    "# prompt 작성\n",
    "# 참고로 prompt는 영어로 작성하는게 더 효과적이라고 한다.\n",
    "# 강의에서는 한국어로 작성해서 나도 한국어로 작성\n",
    "prompt = ChatPromptTemplate.from_template(f\"\"\"\n",
    "    사용자의 질문을 보고, 우리의 사전을 참고해서 사용자의 질문을 변경해주세요.\n",
    "    만약 변경할 필요가 없다고 판단된다면, 사용자의 질문을 변경하지 않아도 됩니다.\n",
    "    그런 경우에는 질문만 리턴해주세요\n",
    "\n",
    "    사전: {dictionary}\n",
    "    \n",
    "    질문 : {{question}}\n",
    "\"\"\")\n",
    "\n",
    "# prompt를 llm에 넘겨주고 그 결과를 StrOutputParser를 이용해 파싱\n",
    "dictionary_chain = prompt | llm | StrOutputParser()"
   ]
  },
  {
   "cell_type": "code",
   "execution_count": null,
   "metadata": {},
   "outputs": [],
   "source": [
    "# dictionary_chain 잘 되는지 확인\n",
    "new_question = dictionary_chain.invoke({\"question\": query})\n",
    "new_question"
   ]
  },
  {
   "cell_type": "code",
   "execution_count": 107,
   "metadata": {},
   "outputs": [],
   "source": [
    "\"\"\"\n",
    "    ai_message = qa_chain({\"query\" : query})\n",
    "    - 기존에 qa_chain 호출하는 모습\n",
    "\n",
    "    tax_chain = {\"query\" : dictionary_chain} | qa_chain\n",
    "    - dictionary_chain의 결과를 \"query\"라는 key의 value로 담아\n",
    "    - qa_chain에 넘겨준다.\n",
    "\n",
    "    [결론] qa_chain이 받는 query는 dictionary_chain의 결과이다.\n",
    "    [결론] {\"query\" : query} ≒ {\"query\" : dictionary_chain}\n",
    "\"\"\"\n",
    "\n",
    "# dictionary_chain의 결과를 qa_chain에 넘겨준다.\n",
    "tax_chain = {\"query\" : dictionary_chain} | qa_chain"
   ]
  },
  {
   "cell_type": "code",
   "execution_count": null,
   "metadata": {},
   "outputs": [],
   "source": [
    "# qa_chain에 query를 넘기려면 dictionary_chain이 먼저 실행돼야 하기에\n",
    "# {\"question\": query} 식으로 넣어준다.\n",
    "ai_response = tax_chain.invoke({\"question\": query})\n",
    "ai_response"
   ]
  }
 ],
 "metadata": {
  "kernelspec": {
   "display_name": "env",
   "language": "python",
   "name": "python3"
  },
  "language_info": {
   "codemirror_mode": {
    "name": "ipython",
    "version": 3
   },
   "file_extension": ".py",
   "mimetype": "text/x-python",
   "name": "python",
   "nbconvert_exporter": "python",
   "pygments_lexer": "ipython3",
   "version": "3.11.6"
  }
 },
 "nbformat": 4,
 "nbformat_minor": 2
}
