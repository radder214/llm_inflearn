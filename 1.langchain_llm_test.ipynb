{
 "cells": [
  {
   "cell_type": "code",
   "execution_count": 1,
   "metadata": {},
   "outputs": [
    {
     "name": "stdout",
     "output_type": "stream",
     "text": [
      "Note: you may need to restart the kernel to use updated packages.Collecting langchain-openai\n",
      "  Obtaining dependency information for langchain-openai from https://files.pythonhosted.org/packages/b0/4e/c62ce98a5412f031f7f03dda5c35b6ed474e0083986261073ca9da5554d5/langchain_openai-0.2.2-py3-none-any.whl.metadata\n",
      "  Downloading langchain_openai-0.2.2-py3-none-any.whl.metadata (2.6 kB)\n",
      "Collecting python-dotenv\n",
      "  Obtaining dependency information for python-dotenv from https://files.pythonhosted.org/packages/6a/3e/b68c118422ec867fa7ab88444e1274aa40681c606d59ac27de5a5588f082/python_dotenv-1.0.1-py3-none-any.whl.metadata\n",
      "  Downloading python_dotenv-1.0.1-py3-none-any.whl.metadata (23 kB)\n",
      "Collecting langchain-core<0.4.0,>=0.3.9 (from langchain-openai)\n",
      "  Obtaining dependency information for langchain-core<0.4.0,>=0.3.9 from https://files.pythonhosted.org/packages/b3/7a/571f44803cb2bfb02504ee977704d4ad28ba4bc2d532250202c04e1da784/langchain_core-0.3.9-py3-none-any.whl.metadata\n",
      "  Downloading langchain_core-0.3.9-py3-none-any.whl.metadata (6.3 kB)\n",
      "Collecting openai<2.0.0,>=1.40.0 (from langchain-openai)\n",
      "  Obtaining dependency information for openai<2.0.0,>=1.40.0 from https://files.pythonhosted.org/packages/c7/08/9f22356d4fbd273f734db1e6663b7ca6987943080567f5580471022e57ca/openai-1.51.0-py3-none-any.whl.metadata\n",
      "  Downloading openai-1.51.0-py3-none-any.whl.metadata (24 kB)\n",
      "Collecting tiktoken<1,>=0.7 (from langchain-openai)\n",
      "  Obtaining dependency information for tiktoken<1,>=0.7 from https://files.pythonhosted.org/packages/1e/86/eea2309dc258fb86c7d9b10db536434fc16420feaa3b6113df18b23db7c2/tiktoken-0.8.0-cp311-cp311-win_amd64.whl.metadata\n",
      "  Downloading tiktoken-0.8.0-cp311-cp311-win_amd64.whl.metadata (6.8 kB)\n",
      "Collecting PyYAML>=5.3 (from langchain-core<0.4.0,>=0.3.9->langchain-openai)\n",
      "  Obtaining dependency information for PyYAML>=5.3 from https://files.pythonhosted.org/packages/ed/23/8da0bbe2ab9dcdd11f4f4557ccaf95c10b9811b13ecced089d43ce59c3c8/PyYAML-6.0.2-cp311-cp311-win_amd64.whl.metadata\n",
      "  Downloading PyYAML-6.0.2-cp311-cp311-win_amd64.whl.metadata (2.1 kB)\n",
      "Collecting jsonpatch<2.0,>=1.33 (from langchain-core<0.4.0,>=0.3.9->langchain-openai)\n",
      "  Obtaining dependency information for jsonpatch<2.0,>=1.33 from https://files.pythonhosted.org/packages/73/07/02e16ed01e04a374e644b575638ec7987ae846d25ad97bcc9945a3ee4b0e/jsonpatch-1.33-py2.py3-none-any.whl.metadata\n",
      "  Using cached jsonpatch-1.33-py2.py3-none-any.whl.metadata (3.0 kB)\n",
      "Collecting langsmith<0.2.0,>=0.1.125 (from langchain-core<0.4.0,>=0.3.9->langchain-openai)\n",
      "  Obtaining dependency information for langsmith<0.2.0,>=0.1.125 from https://files.pythonhosted.org/packages/87/bd/314a8a1d06d1c576f7246a35eef5ed9322aa6eac8b87095d356bf1a21880/langsmith-0.1.131-py3-none-any.whl.metadata\n",
      "  Downloading langsmith-0.1.131-py3-none-any.whl.metadata (13 kB)\n",
      "Requirement already satisfied: packaging<25,>=23.2 in c:\\users\\terious\\desktop\\rag\\env\\lib\\site-packages (from langchain-core<0.4.0,>=0.3.9->langchain-openai) (24.1)\n",
      "Collecting pydantic<3.0.0,>=2.5.2 (from langchain-core<0.4.0,>=0.3.9->langchain-openai)\n",
      "  Obtaining dependency information for pydantic<3.0.0,>=2.5.2 from https://files.pythonhosted.org/packages/df/e4/ba44652d562cbf0bf320e0f3810206149c8a4e99cdbf66da82e97ab53a15/pydantic-2.9.2-py3-none-any.whl.metadata\n",
      "  Downloading pydantic-2.9.2-py3-none-any.whl.metadata (149 kB)\n",
      "     ---------------------------------------- 0.0/149.4 kB ? eta -:--:--\n",
      "     ---------------------------------------- 0.0/149.4 kB ? eta -:--:--\n",
      "     ---------------------------------------- 0.0/149.4 kB ? eta -:--:--\n",
      "     ---------------------------------------- 0.0/149.4 kB ? eta -:--:--\n",
      "     ---------------------------------------- 0.0/149.4 kB ? eta -:--:--\n",
      "     ---------------- ---------------------- 61.4/149.4 kB 3.2 MB/s eta 0:00:01\n",
      "     ---------------- ---------------------- 61.4/149.4 kB 3.2 MB/s eta 0:00:01\n",
      "     ---------------- ---------------------- 61.4/149.4 kB 3.2 MB/s eta 0:00:01\n",
      "     ---------------- ---------------------- 61.4/149.4 kB 3.2 MB/s eta 0:00:01\n",
      "     ---------------- ---------------------- 61.4/149.4 kB 3.2 MB/s eta 0:00:01\n",
      "     ---------------- ---------------------- 61.4/149.4 kB 3.2 MB/s eta 0:00:01\n",
      "     ---------------------------------- - 143.4/149.4 kB 425.3 kB/s eta 0:00:01\n",
      "     ------------------------------------ 149.4/149.4 kB 424.4 kB/s eta 0:00:00\n",
      "Collecting tenacity!=8.4.0,<9.0.0,>=8.1.0 (from langchain-core<0.4.0,>=0.3.9->langchain-openai)\n",
      "  Obtaining dependency information for tenacity!=8.4.0,<9.0.0,>=8.1.0 from https://files.pythonhosted.org/packages/d2/3f/8ba87d9e287b9d385a02a7114ddcef61b26f86411e121c9003eb509a1773/tenacity-8.5.0-py3-none-any.whl.metadata\n",
      "  Downloading tenacity-8.5.0-py3-none-any.whl.metadata (1.2 kB)\n",
      "Requirement already satisfied: typing-extensions>=4.7 in c:\\users\\terious\\desktop\\rag\\env\\lib\\site-packages (from langchain-core<0.4.0,>=0.3.9->langchain-openai) (4.12.2)\n",
      "Collecting anyio<5,>=3.5.0 (from openai<2.0.0,>=1.40.0->langchain-openai)\n",
      "  Obtaining dependency information for anyio<5,>=3.5.0 from https://files.pythonhosted.org/packages/9e/ef/7a4f225581a0d7886ea28359179cb861d7fbcdefad29663fc1167b86f69f/anyio-4.6.0-py3-none-any.whl.metadata\n",
      "  Downloading anyio-4.6.0-py3-none-any.whl.metadata (4.6 kB)\n",
      "Collecting distro<2,>=1.7.0 (from openai<2.0.0,>=1.40.0->langchain-openai)\n",
      "  Obtaining dependency information for distro<2,>=1.7.0 from https://files.pythonhosted.org/packages/12/b3/231ffd4ab1fc9d679809f356cebee130ac7daa00d6d6f3206dd4fd137e9e/distro-1.9.0-py3-none-any.whl.metadata\n",
      "  Downloading distro-1.9.0-py3-none-any.whl.metadata (6.8 kB)\n",
      "Collecting httpx<1,>=0.23.0 (from openai<2.0.0,>=1.40.0->langchain-openai)\n",
      "  Obtaining dependency information for httpx<1,>=0.23.0 from https://files.pythonhosted.org/packages/56/95/9377bcb415797e44274b51d46e3249eba641711cf3348050f76ee7b15ffc/httpx-0.27.2-py3-none-any.whl.metadata\n",
      "  Using cached httpx-0.27.2-py3-none-any.whl.metadata (7.1 kB)\n",
      "Collecting jiter<1,>=0.4.0 (from openai<2.0.0,>=1.40.0->langchain-openai)\n",
      "  Obtaining dependency information for jiter<1,>=0.4.0 from https://files.pythonhosted.org/packages/ab/59/05d1c3203c349b37c4dd28b02b9b4e5915a7bcbd9319173b4548a67d2e93/jiter-0.5.0-cp311-none-win_amd64.whl.metadata\n",
      "  Downloading jiter-0.5.0-cp311-none-win_amd64.whl.metadata (3.7 kB)\n",
      "Collecting sniffio (from openai<2.0.0,>=1.40.0->langchain-openai)\n",
      "  Obtaining dependency information for sniffio from https://files.pythonhosted.org/packages/e9/44/75a9c9421471a6c4805dbf2356f7c181a29c1879239abab1ea2cc8f38b40/sniffio-1.3.1-py3-none-any.whl.metadata\n",
      "  Downloading sniffio-1.3.1-py3-none-any.whl.metadata (3.9 kB)\n",
      "Collecting tqdm>4 (from openai<2.0.0,>=1.40.0->langchain-openai)\n",
      "  Obtaining dependency information for tqdm>4 from https://files.pythonhosted.org/packages/48/5d/acf5905c36149bbaec41ccf7f2b68814647347b72075ac0b1fe3022fdc73/tqdm-4.66.5-py3-none-any.whl.metadata\n",
      "  Downloading tqdm-4.66.5-py3-none-any.whl.metadata (57 kB)\n",
      "     ---------------------------------------- 0.0/57.6 kB ? eta -:--:--\n",
      "     ---------------------------------------- 57.6/57.6 kB 3.0 MB/s eta 0:00:00\n",
      "Collecting regex>=2022.1.18 (from tiktoken<1,>=0.7->langchain-openai)\n",
      "  Obtaining dependency information for regex>=2022.1.18 from https://files.pythonhosted.org/packages/c7/ab/1ad2511cf6a208fde57fafe49829cab8ca018128ab0d0b48973d8218634a/regex-2024.9.11-cp311-cp311-win_amd64.whl.metadata\n",
      "  Downloading regex-2024.9.11-cp311-cp311-win_amd64.whl.metadata (41 kB)\n",
      "     ---------------------------------------- 0.0/41.5 kB ? eta -:--:--\n",
      "     ---------------------------------------- 41.5/41.5 kB ? eta 0:00:00\n",
      "Collecting requests>=2.26.0 (from tiktoken<1,>=0.7->langchain-openai)\n",
      "  Obtaining dependency information for requests>=2.26.0 from https://files.pythonhosted.org/packages/f9/9b/335f9764261e915ed497fcdeb11df5dfd6f7bf257d4a6a2a686d80da4d54/requests-2.32.3-py3-none-any.whl.metadata\n",
      "  Downloading requests-2.32.3-py3-none-any.whl.metadata (4.6 kB)\n",
      "Collecting idna>=2.8 (from anyio<5,>=3.5.0->openai<2.0.0,>=1.40.0->langchain-openai)\n",
      "  Obtaining dependency information for idna>=2.8 from https://files.pythonhosted.org/packages/76/c6/c88e154df9c4e1a2a66ccf0005a88dfb2650c1dffb6f5ce603dfbd452ce3/idna-3.10-py3-none-any.whl.metadata\n",
      "  Downloading idna-3.10-py3-none-any.whl.metadata (10 kB)\n",
      "Collecting certifi (from httpx<1,>=0.23.0->openai<2.0.0,>=1.40.0->langchain-openai)\n",
      "  Obtaining dependency information for certifi from https://files.pythonhosted.org/packages/12/90/3c9ff0512038035f59d279fddeb79f5f1eccd8859f06d6163c58798b9487/certifi-2024.8.30-py3-none-any.whl.metadata\n",
      "  Downloading certifi-2024.8.30-py3-none-any.whl.metadata (2.2 kB)\n",
      "Collecting httpcore==1.* (from httpx<1,>=0.23.0->openai<2.0.0,>=1.40.0->langchain-openai)\n",
      "  Obtaining dependency information for httpcore==1.* from https://files.pythonhosted.org/packages/06/89/b161908e2f51be56568184aeb4a880fd287178d176fd1c860d2217f41106/httpcore-1.0.6-py3-none-any.whl.metadata\n",
      "  Downloading httpcore-1.0.6-py3-none-any.whl.metadata (21 kB)\n",
      "Collecting h11<0.15,>=0.13 (from httpcore==1.*->httpx<1,>=0.23.0->openai<2.0.0,>=1.40.0->langchain-openai)\n",
      "  Obtaining dependency information for h11<0.15,>=0.13 from https://files.pythonhosted.org/packages/95/04/ff642e65ad6b90db43e668d70ffb6736436c7ce41fcc549f4e9472234127/h11-0.14.0-py3-none-any.whl.metadata\n",
      "  Using cached h11-0.14.0-py3-none-any.whl.metadata (8.2 kB)\n",
      "Collecting jsonpointer>=1.9 (from jsonpatch<2.0,>=1.33->langchain-core<0.4.0,>=0.3.9->langchain-openai)\n",
      "  Obtaining dependency information for jsonpointer>=1.9 from https://files.pythonhosted.org/packages/71/92/5e77f98553e9e75130c78900d000368476aed74276eb8ae8796f65f00918/jsonpointer-3.0.0-py2.py3-none-any.whl.metadata\n",
      "  Downloading jsonpointer-3.0.0-py2.py3-none-any.whl.metadata (2.3 kB)\n",
      "Collecting orjson<4.0.0,>=3.9.14 (from langsmith<0.2.0,>=0.1.125->langchain-core<0.4.0,>=0.3.9->langchain-openai)\n",
      "  Obtaining dependency information for orjson<4.0.0,>=3.9.14 from https://files.pythonhosted.org/packages/e7/63/5f4101e4895b78ada568f4cf8f870dd594139ca2e75e654e373da78b03b0/orjson-3.10.7-cp311-none-win_amd64.whl.metadata\n",
      "  Downloading orjson-3.10.7-cp311-none-win_amd64.whl.metadata (51 kB)\n",
      "     ---------------------------------------- 0.0/51.7 kB ? eta -:--:--\n",
      "     ---------------------------------------- 51.7/51.7 kB 2.6 MB/s eta 0:00:00\n",
      "Collecting requests-toolbelt<2.0.0,>=1.0.0 (from langsmith<0.2.0,>=0.1.125->langchain-core<0.4.0,>=0.3.9->langchain-openai)\n",
      "  Obtaining dependency information for requests-toolbelt<2.0.0,>=1.0.0 from https://files.pythonhosted.org/packages/3f/51/d4db610ef29373b879047326cbf6fa98b6c1969d6f6dc423279de2b1be2c/requests_toolbelt-1.0.0-py2.py3-none-any.whl.metadata\n",
      "  Downloading requests_toolbelt-1.0.0-py2.py3-none-any.whl.metadata (14 kB)\n",
      "Collecting annotated-types>=0.6.0 (from pydantic<3.0.0,>=2.5.2->langchain-core<0.4.0,>=0.3.9->langchain-openai)\n",
      "  Obtaining dependency information for annotated-types>=0.6.0 from https://files.pythonhosted.org/packages/78/b6/6307fbef88d9b5ee7421e68d78a9f162e0da4900bc5f5793f6d3d0e34fb8/annotated_types-0.7.0-py3-none-any.whl.metadata\n",
      "  Downloading annotated_types-0.7.0-py3-none-any.whl.metadata (15 kB)\n",
      "Collecting pydantic-core==2.23.4 (from pydantic<3.0.0,>=2.5.2->langchain-core<0.4.0,>=0.3.9->langchain-openai)\n",
      "  Obtaining dependency information for pydantic-core==2.23.4 from https://files.pythonhosted.org/packages/2f/76/37b7e76c645843ff46c1d73e046207311ef298d3f7b2f7d8f6ac60113071/pydantic_core-2.23.4-cp311-none-win_amd64.whl.metadata\n",
      "  Downloading pydantic_core-2.23.4-cp311-none-win_amd64.whl.metadata (6.7 kB)\n",
      "Collecting charset-normalizer<4,>=2 (from requests>=2.26.0->tiktoken<1,>=0.7->langchain-openai)\n",
      "  Obtaining dependency information for charset-normalizer<4,>=2 from https://files.pythonhosted.org/packages/57/ec/80c8d48ac8b1741d5b963797b7c0c869335619e13d4744ca2f67fc11c6fc/charset_normalizer-3.3.2-cp311-cp311-win_amd64.whl.metadata\n",
      "  Downloading charset_normalizer-3.3.2-cp311-cp311-win_amd64.whl.metadata (34 kB)\n",
      "Collecting urllib3<3,>=1.21.1 (from requests>=2.26.0->tiktoken<1,>=0.7->langchain-openai)\n",
      "  Obtaining dependency information for urllib3<3,>=1.21.1 from https://files.pythonhosted.org/packages/ce/d9/5f4c13cecde62396b0d3fe530a50ccea91e7dfc1ccf0e09c228841bb5ba8/urllib3-2.2.3-py3-none-any.whl.metadata\n",
      "  Downloading urllib3-2.2.3-py3-none-any.whl.metadata (6.5 kB)\n",
      "Requirement already satisfied: colorama in c:\\users\\terious\\desktop\\rag\\env\\lib\\site-packages (from tqdm>4->openai<2.0.0,>=1.40.0->langchain-openai) (0.4.6)\n",
      "Downloading langchain_openai-0.2.2-py3-none-any.whl (49 kB)\n",
      "   ---------------------------------------- 0.0/49.7 kB ? eta -:--:--\n",
      "   -------- ------------------------------- 10.2/49.7 kB ? eta -:--:--\n",
      "   ---------------------------------------- 49.7/49.7 kB 1.3 MB/s eta 0:00:00\n",
      "Downloading python_dotenv-1.0.1-py3-none-any.whl (19 kB)\n",
      "Downloading langchain_core-0.3.9-py3-none-any.whl (401 kB)\n",
      "   ---------------------------------------- 0.0/401.8 kB ? eta -:--:--\n",
      "   ---------------------------------------- 0.0/401.8 kB ? eta -:--:--\n",
      "   ------------ --------------------------- 122.9/401.8 kB 7.0 MB/s eta 0:00:01\n",
      "   -------------- ------------------------- 143.4/401.8 kB 2.1 MB/s eta 0:00:01\n",
      "   ---------------- ----------------------- 163.8/401.8 kB 1.6 MB/s eta 0:00:01\n",
      "   ---------------------- ----------------- 225.3/401.8 kB 1.4 MB/s eta 0:00:01\n",
      "   ---------------------------------------- 401.8/401.8 kB 1.8 MB/s eta 0:00:00\n",
      "Downloading openai-1.51.0-py3-none-any.whl (383 kB)\n",
      "   ---------------------------------------- 0.0/383.5 kB ? eta -:--:--\n",
      "   -------------- ------------------------- 143.4/383.5 kB 4.3 MB/s eta 0:00:01\n",
      "   --------------------- ------------------ 204.8/383.5 kB 3.1 MB/s eta 0:00:01\n",
      "   -------------------------------- ------- 307.2/383.5 kB 2.7 MB/s eta 0:00:01\n",
      "   ---------------------------------------- 383.5/383.5 kB 3.0 MB/s eta 0:00:00\n",
      "Downloading tiktoken-0.8.0-cp311-cp311-win_amd64.whl (884 kB)\n",
      "   ---------------------------------------- 0.0/884.5 kB ? eta -:--:--\n",
      "   --------- ------------------------------ 204.8/884.5 kB 6.3 MB/s eta 0:00:01\n",
      "   ----------- ---------------------------- 256.0/884.5 kB 3.2 MB/s eta 0:00:01\n",
      "   -------------- ------------------------- 317.4/884.5 kB 2.2 MB/s eta 0:00:01\n",
      "   ------------------ --------------------- 409.6/884.5 kB 2.3 MB/s eta 0:00:01\n",
      "   ------------------ --------------------- 409.6/884.5 kB 2.3 MB/s eta 0:00:01\n",
      "   ------------------ --------------------- 409.6/884.5 kB 2.3 MB/s eta 0:00:01\n",
      "   ----------------------------- ---------- 645.1/884.5 kB 2.0 MB/s eta 0:00:01\n",
      "   ---------------------------------- ----- 768.0/884.5 kB 2.1 MB/s eta 0:00:01\n",
      "   ---------------------------------------  880.6/884.5 kB 2.1 MB/s eta 0:00:01\n",
      "   ---------------------------------------- 884.5/884.5 kB 2.1 MB/s eta 0:00:00\n",
      "Downloading anyio-4.6.0-py3-none-any.whl (89 kB)\n",
      "   ---------------------------------------- 0.0/89.6 kB ? eta -:--:--\n",
      "   ---------------------------------------- 89.6/89.6 kB 5.0 MB/s eta 0:00:00\n",
      "Downloading distro-1.9.0-py3-none-any.whl (20 kB)\n",
      "Downloading httpx-0.27.2-py3-none-any.whl (76 kB)\n",
      "   ---------------------------------------- 0.0/76.4 kB ? eta -:--:--\n",
      "   ---------------------------------------- 76.4/76.4 kB 4.1 MB/s eta 0:00:00\n",
      "Downloading httpcore-1.0.6-py3-none-any.whl (78 kB)\n",
      "   ---------------------------------------- 0.0/78.0 kB ? eta -:--:--\n",
      "   ---------------------------------------- 78.0/78.0 kB 4.5 MB/s eta 0:00:00\n",
      "Downloading jiter-0.5.0-cp311-none-win_amd64.whl (191 kB)\n",
      "   ---------------------------------------- 0.0/191.0 kB ? eta -:--:--\n",
      "   --------------------------------------- 191.0/191.0 kB 11.3 MB/s eta 0:00:00\n",
      "Using cached jsonpatch-1.33-py2.py3-none-any.whl (12 kB)\n",
      "Downloading langsmith-0.1.131-py3-none-any.whl (294 kB)\n",
      "   ---------------------------------------- 0.0/294.6 kB ? eta -:--:--\n",
      "   ------------ --------------------------- 92.2/294.6 kB 5.1 MB/s eta 0:00:01\n",
      "   ---------------------------------------- 294.6/294.6 kB 3.6 MB/s eta 0:00:00\n",
      "Downloading pydantic-2.9.2-py3-none-any.whl (434 kB)\n",
      "   ---------------------------------------- 0.0/434.9 kB ? eta -:--:--\n",
      "   --- ------------------------------------ 41.0/434.9 kB ? eta -:--:--\n",
      "   --------------------------- ------------ 297.0/434.9 kB 4.6 MB/s eta 0:00:01\n",
      "   ---------------------------------------  430.1/434.9 kB 3.4 MB/s eta 0:00:01\n",
      "   ---------------------------------------- 434.9/434.9 kB 3.0 MB/s eta 0:00:00\n",
      "Downloading pydantic_core-2.23.4-cp311-none-win_amd64.whl (1.9 MB)\n",
      "   ---------------------------------------- 0.0/1.9 MB ? eta -:--:--\n",
      "   ---- ----------------------------------- 0.2/1.9 MB 3.9 MB/s eta 0:00:01\n",
      "   ------- -------------------------------- 0.3/1.9 MB 4.2 MB/s eta 0:00:01\n",
      "   ---------- ----------------------------- 0.5/1.9 MB 3.4 MB/s eta 0:00:01\n",
      "   ------------- -------------------------- 0.6/1.9 MB 3.3 MB/s eta 0:00:01\n",
      "   ------------------- -------------------- 0.9/1.9 MB 4.1 MB/s eta 0:00:01\n",
      "   ---------------------- ----------------- 1.1/1.9 MB 4.3 MB/s eta 0:00:01\n",
      "   ----------------------- ---------------- 1.1/1.9 MB 3.5 MB/s eta 0:00:01\n",
      "   ------------------------- -------------- 1.2/1.9 MB 3.3 MB/s eta 0:00:01\n",
      "   ------------------------------ --------- 1.4/1.9 MB 3.8 MB/s eta 0:00:01\n",
      "   ---------------------------------- ----- 1.7/1.9 MB 3.5 MB/s eta 0:00:01\n",
      "   ---------------------------------------  1.9/1.9 MB 3.6 MB/s eta 0:00:01\n",
      "   ---------------------------------------- 1.9/1.9 MB 3.6 MB/s eta 0:00:00\n",
      "Downloading PyYAML-6.0.2-cp311-cp311-win_amd64.whl (161 kB)\n",
      "   ---------------------------------------- 0.0/162.0 kB ? eta -:--:--\n",
      "   ----------------------------------- ---- 143.4/162.0 kB 8.9 MB/s eta 0:00:01\n",
      "   ---------------------------------------- 162.0/162.0 kB 4.9 MB/s eta 0:00:00\n",
      "Downloading regex-2024.9.11-cp311-cp311-win_amd64.whl (274 kB)\n",
      "   ---------------------------------------- 0.0/274.0 kB ? eta -:--:--\n",
      "   -------------------------------------- - 266.2/274.0 kB 8.3 MB/s eta 0:00:01\n",
      "   ---------------------------------------- 274.0/274.0 kB 8.5 MB/s eta 0:00:00\n",
      "Downloading requests-2.32.3-py3-none-any.whl (64 kB)\n",
      "   ---------------------------------------- 0.0/64.9 kB ? eta -:--:--\n",
      "   ---------------------------------------- 64.9/64.9 kB ? eta 0:00:00\n",
      "Downloading sniffio-1.3.1-py3-none-any.whl (10 kB)\n",
      "Downloading tenacity-8.5.0-py3-none-any.whl (28 kB)\n",
      "Downloading tqdm-4.66.5-py3-none-any.whl (78 kB)\n",
      "   ---------------------------------------- 0.0/78.4 kB ? eta -:--:--\n",
      "   ---------------------------------------- 78.4/78.4 kB 4.5 MB/s eta 0:00:00\n",
      "Downloading annotated_types-0.7.0-py3-none-any.whl (13 kB)\n",
      "Downloading certifi-2024.8.30-py3-none-any.whl (167 kB)\n",
      "   ---------------------------------------- 0.0/167.3 kB ? eta -:--:--\n",
      "   ---------------------------------------- 167.3/167.3 kB 5.1 MB/s eta 0:00:00\n",
      "Downloading charset_normalizer-3.3.2-cp311-cp311-win_amd64.whl (99 kB)\n",
      "   ---------------------------------------- 0.0/99.9 kB ? eta -:--:--\n",
      "   ---------------------------------------- 99.9/99.9 kB 2.9 MB/s eta 0:00:00\n",
      "Downloading idna-3.10-py3-none-any.whl (70 kB)\n",
      "   ---------------------------------------- 0.0/70.4 kB ? eta -:--:--\n",
      "   ---------------------------------------- 70.4/70.4 kB 3.8 MB/s eta 0:00:00\n",
      "Downloading jsonpointer-3.0.0-py2.py3-none-any.whl (7.6 kB)\n",
      "Downloading orjson-3.10.7-cp311-none-win_amd64.whl (137 kB)\n",
      "   ---------------------------------------- 0.0/137.3 kB ? eta -:--:--\n",
      "   ---------------------------------------- 137.3/137.3 kB 4.1 MB/s eta 0:00:00\n",
      "Downloading requests_toolbelt-1.0.0-py2.py3-none-any.whl (54 kB)\n",
      "   ---------------------------------------- 0.0/54.5 kB ? eta -:--:--\n",
      "   ---------------------------------------- 54.5/54.5 kB 2.8 MB/s eta 0:00:00\n",
      "Downloading urllib3-2.2.3-py3-none-any.whl (126 kB)\n",
      "   ---------------------------------------- 0.0/126.3 kB ? eta -:--:--\n",
      "   ---------------------------------------- 126.3/126.3 kB 7.7 MB/s eta 0:00:00\n",
      "Using cached h11-0.14.0-py3-none-any.whl (58 kB)\n",
      "Installing collected packages: urllib3, tqdm, tenacity, sniffio, regex, PyYAML, python-dotenv, pydantic-core, orjson, jsonpointer, jiter, idna, h11, distro, charset-normalizer, certifi, annotated-types, requests, pydantic, jsonpatch, httpcore, anyio, tiktoken, requests-toolbelt, httpx, openai, langsmith, langchain-core, langchain-openai\n",
      "Successfully installed PyYAML-6.0.2 annotated-types-0.7.0 anyio-4.6.0 certifi-2024.8.30 charset-normalizer-3.3.2 distro-1.9.0 h11-0.14.0 httpcore-1.0.6 httpx-0.27.2 idna-3.10 jiter-0.5.0 jsonpatch-1.33 jsonpointer-3.0.0 langchain-core-0.3.9 langchain-openai-0.2.2 langsmith-0.1.131 openai-1.51.0 orjson-3.10.7 pydantic-2.9.2 pydantic-core-2.23.4 python-dotenv-1.0.1 regex-2024.9.11 requests-2.32.3 requests-toolbelt-1.0.0 sniffio-1.3.1 tenacity-8.5.0 tiktoken-0.8.0 tqdm-4.66.5 urllib3-2.2.3\n",
      "\n"
     ]
    },
    {
     "name": "stderr",
     "output_type": "stream",
     "text": [
      "\n",
      "[notice] A new release of pip is available: 23.2.1 -> 24.2\n",
      "[notice] To update, run: python.exe -m pip install --upgrade pip\n"
     ]
    }
   ],
   "source": [
    "%pip install langchain-openai python-dotenv"
   ]
  },
  {
   "cell_type": "code",
   "execution_count": 1,
   "metadata": {},
   "outputs": [
    {
     "data": {
      "text/plain": [
       "True"
      ]
     },
     "execution_count": 1,
     "metadata": {},
     "output_type": "execute_result"
    }
   ],
   "source": [
    "from dotenv import load_dotenv\n",
    "load_dotenv() # True면 환경변수를 잘 불러온 것"
   ]
  },
  {
   "cell_type": "code",
   "execution_count": 2,
   "metadata": {},
   "outputs": [],
   "source": [
    "from langchain_openai import ChatOpenAI\n",
    "from langchain_core.callbacks import StreamingStdOutCallbackHandler\n",
    "\n",
    "# model: gpt-3.5-turbo\n",
    "chat = ChatOpenAI(temperature=0.1, streaming=True, callbacks=[StreamingStdOutCallbackHandler()])"
   ]
  },
  {
   "cell_type": "code",
   "execution_count": 4,
   "metadata": {},
   "outputs": [
    {
     "name": "stdout",
     "output_type": "stream",
     "text": [
      "1. Domino's Pizza: Founded in 1960, Domino's is one of the largest pizza chains in the United States. Known for their delivery service and wide variety of toppings, Domino's has over 17,000 locations worldwide.\n",
      "\n",
      "2. Pizza Hut: Established in 1958, Pizza Hut is another popular pizza chain in the US. They offer a range of crust options, including stuffed crust and pan pizza, as well as a variety of toppings and specialty pizzas.\n",
      "\n",
      "3. Papa John's: Founded in 1984, Papa John's is known for their \"Better Ingredients, Better Pizza\" slogan. They offer a variety of specialty pizzas, as well as customizable options for customers.\n",
      "\n",
      "4. Little Caesars: Little Caesars is a budget-friendly pizza chain that offers hot and ready pizzas for a low price. They are known for their \"Pizza! Pizza!\" deal, which includes two pizzas for the price of one.\n",
      "\n",
      "5. California Pizza Kitchen: California Pizza Kitchen, or CPK, is a more upscale pizza chain that offers a variety of unique and gourmet pizzas. They are known for their innovative toppings and flavor combinations, as well as their California-inspired menu items."
     ]
    },
    {
     "data": {
      "text/plain": [
       "'1. Domino\\'s Pizza: Founded in 1960, Domino\\'s is one of the largest pizza chains in the United States. Known for their delivery service and wide variety of toppings, Domino\\'s has over 17,000 locations worldwide.\\n\\n2. Pizza Hut: Established in 1958, Pizza Hut is another popular pizza chain in the US. They offer a range of crust options, including stuffed crust and pan pizza, as well as a variety of toppings and specialty pizzas.\\n\\n3. Papa John\\'s: Founded in 1984, Papa John\\'s is known for their \"Better Ingredients, Better Pizza\" slogan. They offer a variety of specialty pizzas, as well as customizable options for customers.\\n\\n4. Little Caesars: Little Caesars is a budget-friendly pizza chain that offers hot and ready pizzas for a low price. They are known for their \"Pizza! Pizza!\" deal, which includes two pizzas for the price of one.\\n\\n5. California Pizza Kitchen: California Pizza Kitchen, or CPK, is a more upscale pizza chain that offers a variety of unique and gourmet pizzas. They are known for their innovative toppings and flavor combinations, as well as their California-inspired menu items.'"
      ]
     },
     "execution_count": 4,
     "metadata": {},
     "output_type": "execute_result"
    }
   ],
   "source": [
    "result = chat.invoke(\"tell me about 5 pizza brand in USA\")"
   ]
  },
  {
   "cell_type": "code",
   "execution_count": 5,
   "metadata": {},
   "outputs": [
    {
     "data": {
      "text/plain": [
       "'1. Domino\\'s Pizza: Founded in 1960, Domino\\'s is one of the largest pizza chains in the United States. Known for their delivery service and wide variety of toppings, Domino\\'s has over 17,000 locations worldwide.\\n\\n2. Pizza Hut: Established in 1958, Pizza Hut is another popular pizza chain in the US. They offer a range of crust options, including stuffed crust and pan pizza, as well as a variety of toppings and specialty pizzas.\\n\\n3. Papa John\\'s: Founded in 1984, Papa John\\'s is known for their \"Better Ingredients, Better Pizza\" slogan. They offer a variety of specialty pizzas, as well as customizable options for customers.\\n\\n4. Little Caesars: Little Caesars is a budget-friendly pizza chain that offers hot and ready pizzas for a low price. They are known for their \"Pizza! Pizza!\" deal, which includes two pizzas for the price of one.\\n\\n5. California Pizza Kitchen: California Pizza Kitchen, or CPK, is a more upscale pizza chain that offers a variety of unique and gourmet pizzas. They are known for their innovative toppings and flavor combinations, as well as their California-inspired menu items.'"
      ]
     },
     "execution_count": 5,
     "metadata": {},
     "output_type": "execute_result"
    }
   ],
   "source": [
    "result.content"
   ]
  }
 ],
 "metadata": {
  "kernelspec": {
   "display_name": "env",
   "language": "python",
   "name": "python3"
  },
  "language_info": {
   "codemirror_mode": {
    "name": "ipython",
    "version": 3
   },
   "file_extension": ".py",
   "mimetype": "text/x-python",
   "name": "python",
   "nbconvert_exporter": "python",
   "pygments_lexer": "ipython3",
   "version": "3.11.6"
  }
 },
 "nbformat": 4,
 "nbformat_minor": 2
}
