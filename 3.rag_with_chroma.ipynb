{
 "cells": [
  {
   "cell_type": "markdown",
   "metadata": {},
   "source": [
    "### 구현 방식\n",
    "1. 문서의 내용을 읽는다.\n",
    "2. 문서를 쪼갠다.\n",
    "    - 토큰수 초과로 답변을 생성하지 못할 수 있고\n",
    "    - 문서가 길면(인풋이 길면) 답변 생성이 오래걸린다.\n",
    "3. (쪼갠 문서를) 임베딩 -> 벡터 DB에 저장\n",
    "4. 질문이 있을 때 벡터 DB에서 유사도 검색\n",
    "5. 유사도 검색으로 가져온 문서를 LLM에 질문과 같이 전달"
   ]
  },
  {
   "cell_type": "code",
   "execution_count": 38,
   "metadata": {},
   "outputs": [],
   "source": [
    "from langchain_community.document_loaders import Docx2txtLoader\n",
    "from langchain_text_splitters import RecursiveCharacterTextSplitter\n",
    "\n",
    "text_splitter = RecursiveCharacterTextSplitter(\n",
    "    chunk_size=1500,    # 문서를 쪼갤 때 하나의 chunk가 가지는 token 수\n",
    "    chunk_overlap=200   # 쪼갠 내용에서 겹치는 정도\n",
    ")\n",
    "\n",
    "loader = Docx2txtLoader(\"./tax.docx\")\n",
    "document_list = loader.load_and_split(text_splitter=text_splitter)"
   ]
  },
  {
   "cell_type": "code",
   "execution_count": 39,
   "metadata": {},
   "outputs": [],
   "source": [
    "from dotenv import load_dotenv\n",
    "from langchain_openai import OpenAIEmbeddings\n",
    "\n",
    "load_dotenv()\n",
    "embedding = OpenAIEmbeddings(model=\"text-embedding-3-large\")"
   ]
  },
  {
   "cell_type": "code",
   "execution_count": 45,
   "metadata": {},
   "outputs": [],
   "source": [
    "from langchain_chroma import Chroma\n",
    "\"\"\"\n",
    "    chroma\n",
    "    - 인메모리 데이터베이스\n",
    "    - 노트북을 닫으면 저장해 놓은 것들이 날라가 버린다.\n",
    "    - 그렇기에 persist_directory 속성을 이용한다.\n",
    "\"\"\"\n",
    "\n",
    "# chunk 된 document_list를 OpenAIEmbeddings을 활용해 저장\n",
    "# 최초 저장\n",
    "# database = Chroma.from_documents(\n",
    "#     documents=document_list,\n",
    "#     embedding=embedding,\n",
    "#     collection_name=\"chroma-tax\", # RDB의 Table 같은 역할\n",
    "#     persist_directory=\"./chroma\"\n",
    "# )\n",
    "\n",
    "# 이미 저장된 것을 불러올 때\n",
    "database = Chroma(\n",
    "    collection_name=\"chroma-tax\",\n",
    "    persist_directory=\"./chroma\",\n",
    "    embedding_function=embedding\n",
    ")"
   ]
  },
  {
   "cell_type": "code",
   "execution_count": 46,
   "metadata": {},
   "outputs": [],
   "source": [
    "# database에 query를 날려보자\n",
    "query = \"연봉 5천만 원인 직장인의 소득세는 얼마인가요?\"\n",
    "\n",
    "# similarity_search: database 생성 시 넣은 embedding을 활용해 유사도 검색\n",
    "# 유사도 검색을 통해 답변을 가져온다.\n",
    "# retrieved_docs = database.similarity_search(query, k=3) # k: return 하는 답변의 수"
   ]
  },
  {
   "cell_type": "code",
   "execution_count": 47,
   "metadata": {},
   "outputs": [],
   "source": [
    "# 문서를 가져왔으니 이를 토대로 LLM에 질의를 한다.\n",
    "from langchain_openai import ChatOpenAI\n",
    "llm = ChatOpenAI(model=\"gpt-4o\")\n",
    "\n",
    "# [Identity] --> 페르소나 설정(이게 있으면 답변이 더 좋다고 한다.)\n",
    "# prompt = f\"\"\"\n",
    "#     [Identity]\n",
    "#     - 당신은 최고의 한국 소득세 전문가 입니다.\n",
    "#     - [Context]를 참고해서 사용자의 질문에 답변해주세요.\n",
    "\n",
    "#     [Context]\n",
    "#     {retrieved_docs}\n",
    "\n",
    "#     Question: {query}\n",
    "# \"\"\"\n",
    "# ai_message = llm.invoke(prompt)\n",
    "# ai_message"
   ]
  },
  {
   "cell_type": "code",
   "execution_count": 48,
   "metadata": {},
   "outputs": [],
   "source": [
    "from langchain import hub\n",
    "# langchain langchainhub --> prompt 제공\n",
    "prompt = hub.pull(\"rlm/rag-prompt\") # langchain에 default로 있는 prompt 사용"
   ]
  },
  {
   "cell_type": "code",
   "execution_count": null,
   "metadata": {},
   "outputs": [],
   "source": [
    "from langchain.chains import RetrievalQA\n",
    "\n",
    "qa_chain = RetrievalQA.from_chain_type(\n",
    "    llm,\n",
    "    retriever=database.as_retriever(),\n",
    "    chain_type_kwargs={\"prompt\" : prompt}\n",
    ")\n",
    "ai_message = qa_chain({\"query\" : query})\n",
    "ai_message"
   ]
  }
 ],
 "metadata": {
  "kernelspec": {
   "display_name": "env",
   "language": "python",
   "name": "python3"
  },
  "language_info": {
   "codemirror_mode": {
    "name": "ipython",
    "version": 3
   },
   "file_extension": ".py",
   "mimetype": "text/x-python",
   "name": "python",
   "nbconvert_exporter": "python",
   "pygments_lexer": "ipython3",
   "version": "3.11.6"
  }
 },
 "nbformat": 4,
 "nbformat_minor": 2
}
